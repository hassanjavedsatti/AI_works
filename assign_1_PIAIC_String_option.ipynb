{
 "cells": [
  {
   "cell_type": "code",
   "execution_count": 3,
   "metadata": {},
   "outputs": [
    {
     "name": "stdout",
     "output_type": "stream",
     "text": [
      "capitalized string =  I am hassan\n"
     ]
    }
   ],
   "source": [
    "# capitalize   option\n",
    "#This option is to capitalize the first/starting alphabet of string \n",
    "my_string = \"i am hassan\"\n",
    "print('capitalized string = ',my_string.capitalize())\n"
   ]
  },
  {
   "cell_type": "code",
   "execution_count": 4,
   "metadata": {},
   "outputs": [
    {
     "name": "stdout",
     "output_type": "stream",
     "text": [
      "Lower case string =  i am hassan\n"
     ]
    }
   ],
   "source": [
    "# casefold    option\n",
    "#This option is to mention complete string in lowercase format\n",
    "my_string = 'I am HASSAN'\n",
    "print('Lower case string = ',my_string.casefold())"
   ]
  },
  {
   "cell_type": "code",
   "execution_count": 5,
   "metadata": {},
   "outputs": [
    {
     "name": "stdout",
     "output_type": "stream",
     "text": [
      "new string =  ....I am Hassan.....\n"
     ]
    }
   ],
   "source": [
    "# center     option\n",
    "# This method returns a string that is at least width characters wide, \n",
    "#created by padding the string with the character fillchar (default is a space)\n",
    "my_string = 'I am Hassan'\n",
    "print('new string = ',my_string.center(20,'.'))"
   ]
  },
  {
   "cell_type": "code",
   "execution_count": 8,
   "metadata": {},
   "outputs": [
    {
     "name": "stdout",
     "output_type": "stream",
     "text": [
      "Encoded string =  b'I am Hassan'\n",
      "Encoded string =  b'SSBhbSBIYXNzYW4='\n"
     ]
    }
   ],
   "source": [
    "# encode    option\n",
    "# this option is to encode the string\n",
    "my_string = 'I am Hassan'\n",
    "import base64\n",
    "print('Encoded string = ',my_string.encode(encoding = 'UTF-8', errors = 'strict'))\n",
    "print('Encoded string = ',base64.b64encode(my_string.encode(encoding = 'UTF-8', errors = 'strict')))"
   ]
  },
  {
   "cell_type": "code",
   "execution_count": 15,
   "metadata": {},
   "outputs": [
    {
     "name": "stdout",
     "output_type": "stream",
     "text": [
      "string.endswidth(Islamabad) =  True\n",
      "string.endswidth(Islamabad) =  True\n",
      "string.endswidth(Islamabad) =  True\n",
      "string.endswidth(Islamabad) =  False\n"
     ]
    }
   ],
   "source": [
    "# endswith   option\n",
    "# this option is to check if string ends with given suffex or not\n",
    "my_string = 'I am Hassan from Islamabad'\n",
    "print('string.endswidth(Islamabad) = ',my_string.endswith('Islamabad'))\n",
    "print('string.endswidth(Islamabad) = ',my_string.endswith('Islamabad',0))\n",
    "print('string.endswidth(Islamabad) = ',my_string.endswith('Islamabad',10,30))\n",
    "print('string.endswidth(Islamabad) = ',my_string.endswith('Islamabad',0,20))"
   ]
  },
  {
   "cell_type": "code",
   "execution_count": 17,
   "metadata": {},
   "outputs": [
    {
     "name": "stdout",
     "output_type": "stream",
     "text": [
      "Modified string using default spacing (8): I       am      Hassan\n",
      "\r\n",
      "Modified string using less spacing(2): I am  Hassan\n",
      "\r\n",
      "Modified string using more spacing(12): I           am          Hassan\n",
      "\r\n"
     ]
    }
   ],
   "source": [
    "#expandtabs   option\n",
    "# this option is to expand the string by adding additional spaces at the location of '\\t'\n",
    "  \n",
    "# initializing string  \n",
    "str = \"I\\tam \\tHassan\"\n",
    "  \n",
    "# using expandtabs to insert spacing \n",
    "print(\"Modified string using default spacing (8): \", end =\"\") \n",
    "print(str.expandtabs()) \n",
    "  \n",
    "print(\"\\r\") \n",
    "  \n",
    "# using expandtabs to insert spacing \n",
    "print(\"Modified string using less spacing(2): \", end =\"\") \n",
    "print(str.expandtabs(2)) \n",
    "  \n",
    "print(\"\\r\") \n",
    "  \n",
    "# using expandtabs to insert spacing \n",
    "print(\"Modified string using more spacing(12): \", end =\"\") \n",
    "print(str.expandtabs(12)) \n",
    "  \n",
    "print(\"\\r\") "
   ]
  },
  {
   "cell_type": "code",
   "execution_count": 21,
   "metadata": {},
   "outputs": [
    {
     "name": "stdout",
     "output_type": "stream",
     "text": [
      "The locaiton of string is  =  17\n",
      "The locaiton of string is  =  17\n",
      "The locaiton of string is  =  -1\n"
     ]
    }
   ],
   "source": [
    "# find()     option\n",
    "# this option is for finding a substring in a string. It returns the starting location of substring \n",
    "\n",
    "my_string = 'I am hassan from Islamabad'\n",
    "my_string2 = 'Islam'\n",
    "print('The locaiton of string is  = ',my_string.find(my_string2))\n",
    "print('The locaiton of string is  = ',my_string.find(my_string2,10,25))\n",
    "print('The locaiton of string is  = ',my_string.find(my_string2,10,20))"
   ]
  },
  {
   "cell_type": "code",
   "execution_count": 23,
   "metadata": {},
   "outputs": [
    {
     "name": "stdout",
     "output_type": "stream",
     "text": [
      "I am {} from Islamabad\n",
      "I am hassan from Islamabad\n"
     ]
    }
   ],
   "source": [
    "#format()    option\n",
    "#this option in one or more replacement fields and placeholders defined by a pair of curly braces { } into a string \n",
    "my_string = 'I am {} from Islamabad'\n",
    "my_string2 = 'hassan'\n",
    "print(my_string)\n",
    "print(my_string.format(my_string2))"
   ]
  },
  {
   "cell_type": "code",
   "execution_count": 26,
   "metadata": {},
   "outputs": [
    {
     "name": "stdout",
     "output_type": "stream",
     "text": [
      "my name is {x} and i am from {y}\n",
      "my name is hassan and i am from islamabad\n"
     ]
    }
   ],
   "source": [
    "#format_map()   option\n",
    "#format_map() function is an inbuilt function in Python, which is used to return an dictionary key’s value\n",
    "my_string = 'my name is {x} and i am from {y}'\n",
    "name_dictionary = {'x':'hassan','y':'islamabad'}\n",
    "print(my_string)\n",
    "print(my_string.format_map(name_dictionary))"
   ]
  },
  {
   "cell_type": "code",
   "execution_count": 28,
   "metadata": {},
   "outputs": [
    {
     "name": "stdout",
     "output_type": "stream",
     "text": [
      "11\n"
     ]
    }
   ],
   "source": [
    "#index         option\n",
    "#Python string method index() determines if string str occurs in string or in a \n",
    "#substring of string if starting index beg and ending index end are given. \n",
    "#This method is same as find(), but raises an exception if sub is not found\n",
    "my_string = 'my name is hassan and i am from islamabad'\n",
    "my_string2 = 'hassan'\n",
    "print(my_string.index(my_string2))\n"
   ]
  },
  {
   "cell_type": "code",
   "execution_count": 29,
   "metadata": {},
   "outputs": [
    {
     "name": "stdout",
     "output_type": "stream",
     "text": [
      "True\n",
      "False\n"
     ]
    }
   ],
   "source": [
    "#isalnum       option\n",
    "#checks whether all the characters in a given string is alphanumeric or not\n",
    "my_string1 = 'IamHassan12345'\n",
    "my_string2 = 'I am hassan'\n",
    "print(my_string1.isalnum())\n",
    "print(my_string2.isalnum())\n"
   ]
  },
  {
   "cell_type": "code",
   "execution_count": 31,
   "metadata": {},
   "outputs": [
    {
     "name": "stdout",
     "output_type": "stream",
     "text": [
      "False\n",
      "False\n",
      "True\n"
     ]
    }
   ],
   "source": [
    "#isalpha       option\n",
    "#checks whether all the characters in a given string is alphabets or not\n",
    "my_string1 = 'IamHassan12345'\n",
    "my_string2 = 'I am hassan'\n",
    "my_string3 = 'Iamhassan'\n",
    "print(my_string1.isalpha())\n",
    "print(my_string2.isalpha())\n",
    "print(my_string3.isalpha())"
   ]
  },
  {
   "cell_type": "code",
   "execution_count": 34,
   "metadata": {},
   "outputs": [
    {
     "name": "stdout",
     "output_type": "stream",
     "text": [
      "True\n",
      "True\n",
      "False\n"
     ]
    }
   ],
   "source": [
    "#isascii       option\n",
    "#checks whether the string contains ASCII characters, i.e checks whether the string is printable or not\n",
    "my_string1 = 'IamHassan12345'\n",
    "my_string2 = 'I am hassan'\n",
    "my_string3 = 'ö'\n",
    "print(my_string1.isascii())\n",
    "print(my_string2.isascii())\n",
    "print(my_string3.isascii())"
   ]
  },
  {
   "cell_type": "code",
   "execution_count": 42,
   "metadata": {},
   "outputs": [
    {
     "name": "stdout",
     "output_type": "stream",
     "text": [
      "False\n",
      "False\n",
      "True\n"
     ]
    }
   ],
   "source": [
    "#isdecimal       option\n",
    "#returns true if all characters in a string are decimal. If all characters are not decimal then it returns false\n",
    "my_string1 = 'IamHassan12345'\n",
    "my_string2 = 'I am hassan'\n",
    "my_string3 = '01234567'\n",
    "print(my_string1.isdecimal())\n",
    "print(my_string2.isdecimal())\n",
    "print(my_string3.isdecimal())"
   ]
  },
  {
   "cell_type": "code",
   "execution_count": 40,
   "metadata": {},
   "outputs": [
    {
     "name": "stdout",
     "output_type": "stream",
     "text": [
      "False\n",
      "True\n",
      "False\n"
     ]
    }
   ],
   "source": [
    "#isdigit        option\n",
    "#returns “True” if all characters in the string are digits, Otherwise, It returns “False”\n",
    "my_string1 = 'IamHassan12345'\n",
    "my_string2 = '325'\n",
    "my_string3 = 'ö'\n",
    "print(my_string1.isdigit())\n",
    "print(my_string2.isdigit())\n",
    "print(my_string3.isdigit())"
   ]
  },
  {
   "cell_type": "code",
   "execution_count": 43,
   "metadata": {},
   "outputs": [
    {
     "name": "stdout",
     "output_type": "stream",
     "text": [
      "False\n",
      "True\n",
      "False\n",
      "True\n",
      "False\n"
     ]
    }
   ],
   "source": [
    "#isidentifier        option\n",
    "#checks whether the string is valid identifer or not, return true or false\n",
    "# String with spaces \n",
    "string = \"Geeks for Geeks\"\n",
    "print(string.isidentifier()) \n",
    "  \n",
    "# A Perfect identifier \n",
    "string = \"GeeksforGeeks\"\n",
    "print(string.isidentifier()) \n",
    "  \n",
    "# Empty string \n",
    "string = \"\" \n",
    "print(string.isidentifier()) \n",
    "  \n",
    "# Alphanumerical string \n",
    "string = \"Geeks0for0Geeks\"\n",
    "print(string.isidentifier()) \n",
    "  \n",
    "# Beginning with an integer \n",
    "string = \"54Geeks0for0Geeks\"\n",
    "print(string.isidentifier())"
   ]
  },
  {
   "cell_type": "code",
   "execution_count": 46,
   "metadata": {},
   "outputs": [
    {
     "name": "stdout",
     "output_type": "stream",
     "text": [
      "False\n",
      "True\n"
     ]
    }
   ],
   "source": [
    "#islower       option\n",
    "#checks whether all the case-based characters (letters) of the string are lowercase.\n",
    "str = \"I am Hassan\"\n",
    "print(str.islower())\n",
    "str = \"i am hassan\"\n",
    "print(str.islower())"
   ]
  },
  {
   "cell_type": "code",
   "execution_count": 49,
   "metadata": {},
   "outputs": [
    {
     "name": "stdout",
     "output_type": "stream",
     "text": [
      "False\n",
      "True\n",
      "True\n"
     ]
    }
   ],
   "source": [
    "#isnumeric       option\n",
    "#checks whether the string consists of only numeric characters. This method is present only on unicode objects\n",
    "str = u\"this2009\";  \n",
    "print(str.isnumeric())\n",
    "\n",
    "str = u\"2009\";  \n",
    "print(str.isnumeric())\n",
    "\n",
    "str = u\"23443434\";\n",
    "print(str.isnumeric())"
   ]
  },
  {
   "cell_type": "code",
   "execution_count": 50,
   "metadata": {},
   "outputs": [
    {
     "name": "stdout",
     "output_type": "stream",
     "text": [
      "False\n",
      "False\n",
      "True\n"
     ]
    }
   ],
   "source": [
    "#isprintable       option\n",
    "#returns True if all characters in the string are printable or the string is empty \n",
    "str = \"I am Hassan\\n\"\n",
    "print(str.isprintable())\n",
    "str = \"\\ti am hassan\"\n",
    "print(str.isprintable())\n",
    "str = \"i am hassan\"\n",
    "print(str.isprintable())"
   ]
  },
  {
   "cell_type": "code",
   "execution_count": 52,
   "metadata": {},
   "outputs": [
    {
     "name": "stdout",
     "output_type": "stream",
     "text": [
      "True\n",
      "False\n"
     ]
    }
   ],
   "source": [
    "#isspace     option\n",
    "#checks if every character in the string is whitespaces or not\n",
    "txt1 = \"   \"\n",
    "txt2 = \"  I am Hassan \"\n",
    "print(txt1.isspace())\n",
    "print(txt2.isspace())"
   ]
  },
  {
   "cell_type": "code",
   "execution_count": 51,
   "metadata": {},
   "outputs": [
    {
     "name": "stdout",
     "output_type": "stream",
     "text": [
      "True\n",
      "False\n"
     ]
    }
   ],
   "source": [
    "#istitle     option\n",
    "#checks if every word in the string starts with capital or not\n",
    "txt1 = \"Hello, And Welcome To My World!\"\n",
    "txt2 = \"Hello, And welcome to My World!\"\n",
    "\n",
    "print(txt1.istitle())\n",
    "print(txt2.istitle())"
   ]
  },
  {
   "cell_type": "code",
   "execution_count": 56,
   "metadata": {},
   "outputs": [
    {
     "name": "stdout",
     "output_type": "stream",
     "text": [
      "False\n",
      "True\n"
     ]
    }
   ],
   "source": [
    "#isupper     option\n",
    "#checks whether all the case-based characters (letters) of the string are uppercase\n",
    "txt1 = \"Hello, And welcome to My World\"\n",
    "txt2 = \"HELLO, AND WELCOME TO MY WORLD\"\n",
    "\n",
    "print(txt1.isupper())\n",
    "print(txt2.isupper())"
   ]
  },
  {
   "cell_type": "code",
   "execution_count": 61,
   "metadata": {},
   "outputs": [
    {
     "name": "stdout",
     "output_type": "stream",
     "text": [
      "I#am#Hassan\n"
     ]
    }
   ],
   "source": [
    "#join       option\n",
    "#Join all items in a tuple into a string, using a hash character as separator\n",
    "txt1 = ('I','am','Hassan')\n",
    "\n",
    "print('#'.join(txt1))"
   ]
  },
  {
   "cell_type": "code",
   "execution_count": 57,
   "metadata": {},
   "outputs": [
    {
     "name": "stdout",
     "output_type": "stream",
     "text": [
      "I am Hassan!..................\n"
     ]
    }
   ],
   "source": [
    "#ljust     option\n",
    "#returns the string left justified in a string of length width.\n",
    "#Padding is done using the specified fillchar (default is a space). \n",
    "#The original string is returned if width is less than len(s)\n",
    "\n",
    "txt1 = \"I am Hassan!\"\n",
    "print(txt1.ljust(30,'.'))"
   ]
  },
  {
   "cell_type": "code",
   "execution_count": 62,
   "metadata": {},
   "outputs": [
    {
     "name": "stdout",
     "output_type": "stream",
     "text": [
      "i am hassan!\n"
     ]
    }
   ],
   "source": [
    "#lower      option\n",
    "#returns a copy of the string in which all case-based characters have been lowercased\n",
    "txt1 = \"I am Hassan!\"\n",
    "print(txt1.lower())"
   ]
  },
  {
   "cell_type": "code",
   "execution_count": 64,
   "metadata": {},
   "outputs": [
    {
     "name": "stdout",
     "output_type": "stream",
     "text": [
      "this is string example....wow!!!     \n",
      "this is string example....wow!!!8888888\n"
     ]
    }
   ],
   "source": [
    "#lstrip        option\n",
    "#returns a copy of the string in which all chars have been \n",
    "#stripped from the beginning of the string (default whitespace characters)\n",
    "str = \"     this is string example....wow!!!     \";\n",
    "print(str.lstrip())\n",
    "str = \"88888888this is string example....wow!!!8888888\";\n",
    "print(str.lstrip('8'))"
   ]
  },
  {
   "cell_type": "code",
   "execution_count": 66,
   "metadata": {},
   "outputs": [
    {
     "ename": "ImportError",
     "evalue": "cannot import name 'maketrans' from 'string' (C:\\Users\\lenovo1\\Anaconda3\\lib\\string.py)",
     "output_type": "error",
     "traceback": [
      "\u001b[1;31m---------------------------------------------------------------------------\u001b[0m",
      "\u001b[1;31mImportError\u001b[0m                               Traceback (most recent call last)",
      "\u001b[1;32m<ipython-input-66-9456b828fbb1>\u001b[0m in \u001b[0;36m<module>\u001b[1;34m\u001b[0m\n\u001b[0;32m      4\u001b[0m \u001b[1;31m#Then this table is passed to the translate() function\u001b[0m\u001b[1;33m\u001b[0m\u001b[1;33m\u001b[0m\u001b[1;33m\u001b[0m\u001b[0m\n\u001b[0;32m      5\u001b[0m \u001b[1;33m\u001b[0m\u001b[0m\n\u001b[1;32m----> 6\u001b[1;33m \u001b[1;32mfrom\u001b[0m \u001b[0mstring\u001b[0m \u001b[1;32mimport\u001b[0m \u001b[0mmaketrans\u001b[0m   \u001b[1;31m# Required to call maketrans function.\u001b[0m\u001b[1;33m\u001b[0m\u001b[1;33m\u001b[0m\u001b[0m\n\u001b[0m\u001b[0;32m      7\u001b[0m \u001b[1;33m\u001b[0m\u001b[0m\n\u001b[0;32m      8\u001b[0m \u001b[0mintab\u001b[0m \u001b[1;33m=\u001b[0m \u001b[1;34m\"aeiou\"\u001b[0m\u001b[1;33m\u001b[0m\u001b[1;33m\u001b[0m\u001b[0m\n",
      "\u001b[1;31mImportError\u001b[0m: cannot import name 'maketrans' from 'string' (C:\\Users\\lenovo1\\Anaconda3\\lib\\string.py)"
     ]
    }
   ],
   "source": [
    "#maketrans     option\n",
    "#returns a translation table that maps each character in the intabstring \n",
    "#into the character at the same position in the outtab string. \n",
    "#Then this table is passed to the translate() function\n",
    "\n",
    "from string import maketrans   # Required to call maketrans function.\n",
    "\n",
    "intab = \"aeiou\"\n",
    "outtab = \"12345\"\n",
    "trantab = maketrans(intab, outtab)\n",
    "\n",
    "str = \"this is string example....wow!!!\"\n",
    "print(str.translate(trantab))"
   ]
  },
  {
   "cell_type": "code",
   "execution_count": 67,
   "metadata": {},
   "outputs": [
    {
     "name": "stdout",
     "output_type": "stream",
     "text": [
      "('geeks ', 'is', \" a good, isn't it\")\n"
     ]
    }
   ],
   "source": [
    "#partition     option\n",
    "#splits the string at the first occurrence of the separator and returns a tuple containing \n",
    "#the part the before separator, separator and the part after the separato\n",
    "string = \"geeks is a good, isn't it\"\n",
    "  \n",
    "# splits at first occurrence of 'is' \n",
    "print(string.partition('is')) \n"
   ]
  },
  {
   "cell_type": "code",
   "execution_count": 69,
   "metadata": {},
   "outputs": [
    {
     "name": "stdout",
     "output_type": "stream",
     "text": [
      "thwas was string example....wow!!! thwas was really string\n",
      "thwas was string example....wow!!! thwas is really string\n"
     ]
    }
   ],
   "source": [
    "#replace      option\n",
    "#returns a copy of the string in which the occurrences of old have been replaced with new, \n",
    "#optionally restricting the number of replacements to max\n",
    "str = \"this is string example....wow!!! this is really string\"\n",
    "print(str.replace(\"is\", \"was\"))\n",
    "print(str.replace(\"is\", \"was\", 3))"
   ]
  },
  {
   "cell_type": "code",
   "execution_count": 70,
   "metadata": {},
   "outputs": [
    {
     "name": "stdout",
     "output_type": "stream",
     "text": [
      "5\n",
      "5\n",
      "-1\n",
      "2\n",
      "2\n",
      "-1\n"
     ]
    }
   ],
   "source": [
    "#rfind        option\n",
    "#returns the last index where the substring str is found, or -1 if no such index exists, \n",
    "#optionally restricting the search to string[beg:end]\n",
    "\n",
    "str1 = \"this is really a string example....wow!!!\";\n",
    "str2 = \"is\";\n",
    "\n",
    "print(str1.rfind(str2))\n",
    "print(str1.rfind(str2, 0, 10))\n",
    "print(str1.rfind(str2, 10, 0))\n",
    "\n",
    "print(str1.find(str2))\n",
    "print(str1.find(str2, 0, 10))\n",
    "print(str1.find(str2, 10, 0))"
   ]
  },
  {
   "cell_type": "code",
   "execution_count": 74,
   "metadata": {},
   "outputs": [
    {
     "name": "stdout",
     "output_type": "stream",
     "text": [
      "33\n",
      "2\n"
     ]
    }
   ],
   "source": [
    "#rindex       option\n",
    "#returns the last index where the substring str is found, or raises an exception if no such index exists, \n",
    "#optionally restricting the search to string[beg:end]\n",
    "str1 = \"this is string example....wow!!! isnt it\";\n",
    "str2 = \"is\";\n",
    "\n",
    "print(str1.rindex(str2))\n",
    "print(str1.index(str2))"
   ]
  },
  {
   "cell_type": "code",
   "execution_count": 75,
   "metadata": {},
   "outputs": [
    {
     "name": "stdout",
     "output_type": "stream",
     "text": [
      "******************this is string example....wow!!!\n"
     ]
    }
   ],
   "source": [
    "#rjust      option\n",
    "#eturns the string right justified in a string of length width. Padding is done using the \n",
    "#specified fillchar (default is a space). The original string is returned if width is less than len(s)\n",
    "str = \"this is string example....wow!!!\"\n",
    "print (str.rjust(50, '*'))"
   ]
  },
  {
   "cell_type": "code",
   "execution_count": 76,
   "metadata": {},
   "outputs": [
    {
     "name": "stdout",
     "output_type": "stream",
     "text": [
      "['geeks', 'for', 'geeks']\n",
      "['geeks, for, ', 'eeks']\n",
      "['geeks@for', 'geeks']\n"
     ]
    }
   ],
   "source": [
    "#rsplit     option\n",
    "#returns a list of strings after breaking the given string from right side by the specified separator\n",
    "# Splits at space \n",
    "word = 'geeks for geeks'\n",
    "print(word.rsplit()) \n",
    "  \n",
    "# Splits at 'g'. Note that we have \n",
    "# provided maximum limit as 1. So \n",
    "# from right, one splitting happens \n",
    "# and we get \"eeks\" and \"geeks, for, \" \n",
    "word = 'geeks, for, geeks'\n",
    "print(word.rsplit('g', 1)) \n",
    "  \n",
    "# Splitting at '@' with maximum splitting \n",
    "# as 1 \n",
    "word = 'geeks@for@geeks'\n",
    "print(word.rsplit('@', 1))"
   ]
  },
  {
   "cell_type": "code",
   "execution_count": 77,
   "metadata": {},
   "outputs": [
    {
     "name": "stdout",
     "output_type": "stream",
     "text": [
      "geek\n",
      "Geeks   for Geeks \n"
     ]
    }
   ],
   "source": [
    "#rstrip            option\n",
    "#removes characters from the right based on the argument (a string specifying the set of characters to be removed)\n",
    "\n",
    "string1 = \"geekssss\"\n",
    "print(string1.rstrip('s'))\n",
    "\n",
    "string2 = \"   for    \"\n",
    "print(\"Geeks\" + string2.rstrip() + \" Geeks \")\n"
   ]
  },
  {
   "cell_type": "code",
   "execution_count": 80,
   "metadata": {},
   "outputs": [
    {
     "name": "stdout",
     "output_type": "stream",
     "text": [
      "['Line1-a b c d e f', 'Line2- a b c', '', 'Line4- a b c d']\n",
      "['Line1-a b c d e f', 'Line2- a b c', '', 'Line4- a b c d']\n",
      "['Line1-a b c d e f\\n', 'Line2- a b c\\n', '\\n', 'Line4- a b c d']\n",
      "['Line1-a b c d e f\\n', 'Line2- a b c\\n', '\\n', 'Line4- a b c d']\n",
      "['Line1-a b c d e f\\n', 'Line2- a b c\\n', '\\n', 'Line4- a b c d']\n"
     ]
    }
   ],
   "source": [
    "#splitlines     option\n",
    "#returns a list with all the lines in string, optionally including the line breaks (if num is supplied and is true)\n",
    "str = \"Line1-a b c d e f\\nLine2- a b c\\n\\nLine4- a b c d\";\n",
    "print(str.splitlines( ))\n",
    "print(str.splitlines( 0 ))\n",
    "print(str.splitlines( 3 ))\n",
    "print(str.splitlines( 4 ))\n",
    "print(str.splitlines( 5 ))"
   ]
  },
  {
   "cell_type": "code",
   "execution_count": 78,
   "metadata": {},
   "outputs": [
    {
     "name": "stdout",
     "output_type": "stream",
     "text": [
      "['welcome', 'to', 'the', 'jungle']\n"
     ]
    }
   ],
   "source": [
    "#split     option\n",
    "#Split a string into a list where each word is a list item\n",
    "txt = \"welcome to the jungle\"\n",
    "print(txt.split())"
   ]
  },
  {
   "cell_type": "code",
   "execution_count": 82,
   "metadata": {},
   "outputs": [
    {
     "name": "stdout",
     "output_type": "stream",
     "text": [
      "True\n",
      "False\n"
     ]
    }
   ],
   "source": [
    "#startswith\n",
    "#Check if the string starts with \"Hello\":\n",
    "txt = \"Hello, welcome to my world.\"\n",
    "print(txt.startswith(\"Hello\"))\n",
    "print(txt.startswith(\"hello\"))"
   ]
  },
  {
   "cell_type": "code",
   "execution_count": 83,
   "metadata": {},
   "outputs": [
    {
     "name": "stdout",
     "output_type": "stream",
     "text": [
      "THIS IS STRING EXAMPLE....WOW!!!\n",
      "tHIS iS sTRING eXAMPLE....wow!!!\n"
     ]
    }
   ],
   "source": [
    "#swapcase     option\n",
    "#returns a copy of the string in which all the case-based characters have had their case swapped\n",
    "str = \"this is string example....wow!!!\"\n",
    "print (str.swapcase())\n",
    "\n",
    "str = \"This Is String Example....WOW!!!\"\n",
    "print (str.swapcase())"
   ]
  },
  {
   "cell_type": "code",
   "execution_count": 85,
   "metadata": {},
   "outputs": [
    {
     "ename": "ImportError",
     "evalue": "cannot import name 'maketrans' from 'string' (C:\\Users\\lenovo1\\Anaconda3\\lib\\string.py)",
     "output_type": "error",
     "traceback": [
      "\u001b[1;31m---------------------------------------------------------------------------\u001b[0m",
      "\u001b[1;31mImportError\u001b[0m                               Traceback (most recent call last)",
      "\u001b[1;32m<ipython-input-85-843a1c3333a7>\u001b[0m in \u001b[0;36m<module>\u001b[1;34m\u001b[0m\n\u001b[0;32m      3\u001b[0m \u001b[1;31m#(constructed with the maketrans() function in the string module),\u001b[0m\u001b[1;33m\u001b[0m\u001b[1;33m\u001b[0m\u001b[1;33m\u001b[0m\u001b[0m\n\u001b[0;32m      4\u001b[0m \u001b[1;31m#optionally deleting all characters found in the string deletechars\u001b[0m\u001b[1;33m\u001b[0m\u001b[1;33m\u001b[0m\u001b[1;33m\u001b[0m\u001b[0m\n\u001b[1;32m----> 5\u001b[1;33m \u001b[1;32mfrom\u001b[0m \u001b[0mstring\u001b[0m \u001b[1;32mimport\u001b[0m \u001b[0mmaketrans\u001b[0m   \u001b[1;31m# Required to call maketrans function.\u001b[0m\u001b[1;33m\u001b[0m\u001b[1;33m\u001b[0m\u001b[0m\n\u001b[0m\u001b[0;32m      6\u001b[0m \u001b[1;33m\u001b[0m\u001b[0m\n\u001b[0;32m      7\u001b[0m \u001b[0mintab\u001b[0m \u001b[1;33m=\u001b[0m \u001b[1;34m\"aeiou\"\u001b[0m\u001b[1;33m\u001b[0m\u001b[1;33m\u001b[0m\u001b[0m\n",
      "\u001b[1;31mImportError\u001b[0m: cannot import name 'maketrans' from 'string' (C:\\Users\\lenovo1\\Anaconda3\\lib\\string.py)"
     ]
    }
   ],
   "source": [
    "#\n",
    "#returns a copy of the string in which all characters have been translated using table \n",
    "#(constructed with the maketrans() function in the string module), \n",
    "#optionally deleting all characters found in the string deletechars\n",
    "from string import maketrans   # Required to call maketrans function.\n",
    "\n",
    "intab = \"aeiou\"\n",
    "outtab = \"12345\"\n",
    "trantab = maketrans(intab, outtab)\n",
    "\n",
    "str = \"this is string example....wow!!!\";\n",
    "print(str.translate(trantab))"
   ]
  },
  {
   "cell_type": "code",
   "execution_count": 87,
   "metadata": {},
   "outputs": [
    {
     "name": "stdout",
     "output_type": "stream",
     "text": [
      "str.capitalize() :  THIS IS STRING EXAMPLE....WOW!!!\n"
     ]
    }
   ],
   "source": [
    "#upper      option\n",
    "#returns a copy of the string in which all case-based characters have been uppercased\n",
    "str = \"this is string example....wow!!!\";\n",
    "print(\"str.capitalize() : \", str.upper())"
   ]
  },
  {
   "cell_type": "code",
   "execution_count": 89,
   "metadata": {},
   "outputs": [
    {
     "name": "stdout",
     "output_type": "stream",
     "text": [
      "00000000this is string example....wow!!!\n",
      "000000000000000000this is string example....wow!!!\n"
     ]
    }
   ],
   "source": [
    "#zfill     option\n",
    "#pads string on the left with zeros to fill width.\n",
    "str = \"this is string example....wow!!!\";\n",
    "print(str.zfill(40))\n",
    "print(str.zfill(50))"
   ]
  }
 ],
 "metadata": {
  "kernelspec": {
   "display_name": "Python 3",
   "language": "python",
   "name": "python3"
  },
  "language_info": {
   "codemirror_mode": {
    "name": "ipython",
    "version": 3
   },
   "file_extension": ".py",
   "mimetype": "text/x-python",
   "name": "python",
   "nbconvert_exporter": "python",
   "pygments_lexer": "ipython3",
   "version": "3.7.3"
  }
 },
 "nbformat": 4,
 "nbformat_minor": 2
}
